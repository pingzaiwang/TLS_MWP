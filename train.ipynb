{
 "cells": [
  {
   "cell_type": "code",
   "execution_count": null,
   "id": "97ffb3d5-a753-461e-a7ef-ec5f01e5e152",
   "metadata": {},
   "outputs": [],
   "source": [
    "import os\n",
    "import torch\n",
    "import configparser\n",
    "from data_loader.era5 import ERA5\n",
    "from model.Model import Model\n",
    "import datetime"
   ]
  },
  {
   "cell_type": "markdown",
   "id": "c1ca4aac-e2b5-4197-84a0-76c02f0e5657",
   "metadata": {},
   "source": [
    "# Setting"
   ]
  },
  {
   "cell_type": "code",
   "execution_count": null,
   "id": "89c658c3-20e4-4fc0-9255-b4e16ab187b8",
   "metadata": {},
   "outputs": [],
   "source": [
    "config = configparser.ConfigParser()\n",
    "config._interpolation = configparser.ExtendedInterpolation()\n",
    "config.read('./setting.config')\n",
    "torch.manual_seed(42)"
   ]
  },
  {
   "cell_type": "code",
   "execution_count": null,
   "id": "5561ae14-454e-4a94-92e3-9a44295d8c49",
   "metadata": {},
   "outputs": [],
   "source": [
    "is_train = str(config['model']['is_train']).lower() == 'true'\n",
    "model_save_folder = str(config['model']['model_save_folder'])"
   ]
  },
  {
   "cell_type": "markdown",
   "id": "75d9a0f2-4b1f-4321-a4f0-6becf1b81c7e",
   "metadata": {},
   "source": [
    "# Data Loader"
   ]
  },
  {
   "cell_type": "code",
   "execution_count": null,
   "id": "c000cf96-ac6c-4060-a85e-a281d8876420",
   "metadata": {},
   "outputs": [],
   "source": [
    "print(\"loading era5....\")\n",
    "era5 = ERA5(config)\n",
    "train_dataloader = era5.train_loader()\n",
    "valid_dataloader = era5.validate_loader()\n",
    "test_loader = era5.test_loader()"
   ]
  },
  {
   "cell_type": "markdown",
   "id": "d531d0d4-48c9-4030-8dba-9ad5939d28e7",
   "metadata": {},
   "source": [
    "# Train"
   ]
  },
  {
   "cell_type": "code",
   "execution_count": null,
   "id": "ba3842af-cf46-4a1b-9abc-b9aaaa7ac207",
   "metadata": {
    "scrolled": true
   },
   "outputs": [],
   "source": [
    "if is_train == True:\n",
    "\n",
    "    # new training\n",
    "    if model_save_folder == '':\n",
    "        model_save_folder = './save-{}'.format(datetime.datetime.now().strftime('%Y%m%d_%H%M%S_%f'))\n",
    "        model = Model(config, era5=era5, model_save_folder=model_save_folder)\n",
    "        if os.path.exists(model_save_folder) == False:\n",
    "            os.makedirs(model_save_folder)\n",
    "            model.setup_logger(model_save_folder)\n",
    "        print(\"start training....\")\n",
    "        model.train(train_dataloader, valid_dataloader)\n",
    "    else:\n",
    "        # retrain\n",
    "        model = Model(config, era5=era5, model_save_folder=model_save_folder)\n",
    "        start_epoch, min_loss = model.load(model_save_folder)\n",
    "        model.setup_logger(model_save_folder)\n",
    "        print(\"start retraining....\")\n",
    "        model.train(train_dataloader, valid_dataloader, \n",
    "                    start_epoch=start_epoch, min_loss=min_loss)\n",
    "        \n",
    "    print(\"start testing....\")\n",
    "    model_save_path = model_save_folder+'/best_val.pth'\n",
    "    model.evaluate_test(test_loader, model_save_path=model_save_path)"
   ]
  },
  {
   "cell_type": "markdown",
   "id": "5a3a66b2-050f-4186-955a-a3b07fea3539",
   "metadata": {},
   "source": [
    "# Test"
   ]
  },
  {
   "cell_type": "code",
   "execution_count": null,
   "id": "c8141bfa-f3b4-4c3f-b260-1ba1dc5e7f13",
   "metadata": {},
   "outputs": [],
   "source": [
    "if is_train == False:\n",
    "    print(\"start testing....\")\n",
    "\n",
    "    model = Model(config, era5=era5, model_save_folder=model_save_folder)\n",
    "    \n",
    "    model.setup_logger(model_save_folder)\n",
    "    model_save_path = '{}/best_val.pth'.format(model_save_folder)\n",
    "    model.evaluate_test(test_loader, model_save_path=model_save_path, builtins_print=True)"
   ]
  },
  {
   "cell_type": "code",
   "execution_count": null,
   "id": "252674c6-0eb2-4d7a-9125-74f03f2f8ca4",
   "metadata": {},
   "outputs": [],
   "source": []
  }
 ],
 "metadata": {
  "kernelspec": {
   "display_name": "Python 3",
   "language": "python",
   "name": "python3"
  },
  "language_info": {
   "codemirror_mode": {
    "name": "ipython",
    "version": 3
   },
   "file_extension": ".py",
   "mimetype": "text/x-python",
   "name": "python",
   "nbconvert_exporter": "python",
   "pygments_lexer": "ipython3",
   "version": "3.9.16"
  }
 },
 "nbformat": 4,
 "nbformat_minor": 5
}
